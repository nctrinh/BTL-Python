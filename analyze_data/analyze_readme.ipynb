{
 "cells": [
  {
   "cell_type": "markdown",
   "metadata": {},
   "source": [
    "# <font size=\"6\">1. README của repo cung cấp những thông tin gì? Nó có đầy đủ và dễ hiểu không?</font>"
   ]
  },
  {
   "cell_type": "markdown",
   "metadata": {},
   "source": [
    "- Repo của Pandas chứa các thông tin:\n",
    "    + Tên của repo: dạng hình ảnh\n",
    "    + Mô tả về Pandas: mô tả ngắn về Pandas\n",
    "    + Giới thiệu Pandas là gì\n",
    "    + Bảng content của README\n",
    "    + Các tính năng chính: gồm nhiều phần, mỗi phần để có link tới tài liệu của pandas\n",
    "    + Nơi cài đặt\n",
    "    + Các thành phần Pandas phụ thuộc vào để phát triển\n",
    "    + Việc cài đặt từ nguồn (cython)\n",
    "    + Giấy phép (BSD 3)\n",
    "    + Tài liệu\n",
    "    + Background\n",
    "    + Hỗ trợ\n",
    "    + Thảo luận và phát triển\n",
    "    + Đóng góp vào Pandas"
   ]
  },
  {
   "cell_type": "markdown",
   "metadata": {},
   "source": [
    "- Các thông tin được sắp xếp và bố trí một cách hợp lý, nội dung không quá dài và có link dẫn tới các thông tin bên ngoài. Từ đó người dùng có thể dễ dàng tìm hiểu hơn"
   ]
  },
  {
   "cell_type": "markdown",
   "metadata": {},
   "source": [
    "# <font size=\"6\">2. So sánh với repo Matplotlib</font>"
   ]
  },
  {
   "cell_type": "markdown",
   "metadata": {},
   "source": [
    "# <font size=\"4\">1. Điểm mạnh</font>"
   ]
  },
  {
   "cell_type": "markdown",
   "metadata": {},
   "source": [
    "- So với một repo khác cũng có lượng người dùng và số commit lớn như Matplotlib, README của Pandas có một số điểm mạnh như sau:\n",
    "    + README của Pandas dài hơn đáng kể so với Matplotlib \n",
    "    + README của Pandas có mục lục rõ ràng, người dùng có thể dễ dàng tìm kiểm nội dung mình muốn hơn\n",
    "    + README của Pandas có thông tin về các Tính năng, Matplotlib thì không\n",
    "    + README của Pandá có thông tin về Giấy phép, Matplotlib thì không\n",
    "-> Có thể thấy Pandas đầu tư vào việc thiết kế README hơn so với Matplotlib"
   ]
  },
  {
   "cell_type": "markdown",
   "metadata": {},
   "source": [
    "# <font size=\"4\">2. Điểm yếu</font>"
   ]
  },
  {
   "cell_type": "markdown",
   "metadata": {},
   "source": [
    "+ README của Pandas có rất ít hình ảnh"
   ]
  }
 ],
 "metadata": {
  "language_info": {
   "name": "python"
  }
 },
 "nbformat": 4,
 "nbformat_minor": 2
}
